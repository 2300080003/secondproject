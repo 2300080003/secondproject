{
  "nbformat": 4,
  "nbformat_minor": 0,
  "metadata": {
    "colab": {
      "provenance": [],
      "authorship_tag": "ABX9TyPRZ5C0gqYvqVOkRybeDTxS",
      "include_colab_link": true
    },
    "kernelspec": {
      "name": "python3",
      "display_name": "Python 3"
    },
    "language_info": {
      "name": "python"
    }
  },
  "cells": [
    {
      "cell_type": "markdown",
      "metadata": {
        "id": "view-in-github",
        "colab_type": "text"
      },
      "source": [
        "<a href=\"https://colab.research.google.com/github/2300080003/secondproject/blob/main/Deepika.ipynb\" target=\"_parent\"><img src=\"https://colab.research.google.com/assets/colab-badge.svg\" alt=\"Open In Colab\"/></a>"
      ]
    },
    {
      "cell_type": "code",
      "source": [
        "import pandas as pd\n",
        "import numpy as np\n",
        "from sklearn.model_selection import train_test_split\n",
        "from sklearn.preprocessing import StandardScaler\n",
        "from sklearn.impute import SimpleImputer\n",
        "from sklearn.linear_model import LogisticRegression\n",
        "from sklearn.ensemble import RandomForestClassifier\n",
        "from sklearn.svm import SVC\n",
        "from sklearn.metrics import classification_report\n",
        "\n",
        "# ------------------------------\n",
        "# Step 1: Generate Dummy Dataset\n",
        "# ------------------------------\n",
        "# Simulated student internship data\n",
        "data = pd.DataFrame({\n",
        "    'GPA': [8.5, 7.2, 6.0, 9.0, 5.8, 7.9, 6.5, 8.1, 7.5, 5.9],\n",
        "    'Attendance': [90, 85, 70, 95, 60, 88, 75, 92, 80, 65],\n",
        "    'Skills_Matched': ['Yes', 'No', 'Yes', 'Yes', 'No', 'Yes', 'No', 'Yes', 'No', 'No'],\n",
        "    'Projects_Completed': [3, 1, 2, 4, 0, 3, 1, 4, 2, 1],\n",
        "    'Hours_Per_Week': [15, 10, 5, 20, 6, 18, 7, 19, 9, 8],\n",
        "    'Success': [1, 0, 0, 1, 0, 1, 0, 1, 0, 0]\n",
        "})\n",
        "\n",
        "print(\"\\nSample Data:\\n\", data)\n",
        "\n",
        "# ------------------------------\n",
        "# Step 2: Data Preprocessing\n",
        "# ------------------------------\n",
        "# Convert Yes/No to binary\n",
        "data['Skills_Matched'] = data['Skills_Matched'].map({'Yes': 1, 'No': 0})\n",
        "\n",
        "# Handle missing values (if any)\n",
        "imputer = SimpleImputer(strategy='mean')\n",
        "data.iloc[:, :-1] = imputer.fit_transform(data.iloc[:, :-1])  # All features except 'Success'\n",
        "\n",
        "# Feature matrix and label\n",
        "X = data.drop('Success', axis=1)\n",
        "y = data['Success']\n",
        "\n",
        "# Scale features\n",
        "scaler = StandardScaler()\n",
        "X_scaled = scaler.fit_transform(X)\n",
        "\n",
        "# Train/Test split\n",
        "X_train, X_test, y_train, y_test = train_test_split(X_scaled, y, test_size=0.3, random_state=42)\n",
        "\n",
        "# ------------------------------\n",
        "# Step 3: Train ML Models\n",
        "# ------------------------------\n",
        "\n",
        "# Logistic Regression\n",
        "log_model = LogisticRegression()\n",
        "log_model.fit(X_train, y_train)\n",
        "log_pred = log_model.predict(X_test)\n",
        "\n",
        "# Random Forest\n",
        "rf_model = RandomForestClassifier()\n",
        "rf_model.fit(X_train, y_train)\n",
        "rf_pred = rf_model.predict(X_test)\n",
        "\n",
        "# Support Vector Machine\n",
        "svm_model = SVC()\n",
        "svm_model.fit(X_train, y_train)\n",
        "svm_pred = svm_model.predict(X_test)\n",
        "\n",
        "# ------------------------------\n",
        "# Step 4: Evaluate Models\n",
        "# ------------------------------\n",
        "print(\"\\n=== Logistic Regression Report ===\")\n",
        "print(classification_report(y_test, log_pred))\n",
        "\n",
        "print(\"\\n=== Random Forest Report ===\")\n",
        "print(classification_report(y_test, rf_pred))\n",
        "\n",
        "print(\"\\n=== SVM Report ===\")\n",
        "print(classification_report(y_test, svm_pred))\n"
      ],
      "metadata": {
        "colab": {
          "base_uri": "https://localhost:8080/"
        },
        "id": "Yra2ZdUFhGrF",
        "outputId": "602b36db-5212-4555-dcc1-12110fb34150"
      },
      "execution_count": 5,
      "outputs": [
        {
          "output_type": "stream",
          "name": "stdout",
          "text": [
            "\n",
            "Sample Data:\n",
            "    GPA  Attendance Skills_Matched  Projects_Completed  Hours_Per_Week  Success\n",
            "0  8.5          90            Yes                   3              15        1\n",
            "1  7.2          85             No                   1              10        0\n",
            "2  6.0          70            Yes                   2               5        0\n",
            "3  9.0          95            Yes                   4              20        1\n",
            "4  5.8          60             No                   0               6        0\n",
            "5  7.9          88            Yes                   3              18        1\n",
            "6  6.5          75             No                   1               7        0\n",
            "7  8.1          92            Yes                   4              19        1\n",
            "8  7.5          80             No                   2               9        0\n",
            "9  5.9          65             No                   1               8        0\n",
            "\n",
            "=== Logistic Regression Report ===\n",
            "              precision    recall  f1-score   support\n",
            "\n",
            "           0       1.00      1.00      1.00         2\n",
            "           1       1.00      1.00      1.00         1\n",
            "\n",
            "    accuracy                           1.00         3\n",
            "   macro avg       1.00      1.00      1.00         3\n",
            "weighted avg       1.00      1.00      1.00         3\n",
            "\n",
            "\n",
            "=== Random Forest Report ===\n",
            "              precision    recall  f1-score   support\n",
            "\n",
            "           0       1.00      1.00      1.00         2\n",
            "           1       1.00      1.00      1.00         1\n",
            "\n",
            "    accuracy                           1.00         3\n",
            "   macro avg       1.00      1.00      1.00         3\n",
            "weighted avg       1.00      1.00      1.00         3\n",
            "\n",
            "\n",
            "=== SVM Report ===\n",
            "              precision    recall  f1-score   support\n",
            "\n",
            "           0       1.00      1.00      1.00         2\n",
            "           1       1.00      1.00      1.00         1\n",
            "\n",
            "    accuracy                           1.00         3\n",
            "   macro avg       1.00      1.00      1.00         3\n",
            "weighted avg       1.00      1.00      1.00         3\n",
            "\n"
          ]
        }
      ]
    },
    {
      "cell_type": "code",
      "source": [],
      "metadata": {
        "id": "lO6uEMxmiC8j"
      },
      "execution_count": null,
      "outputs": []
    }
  ]
}